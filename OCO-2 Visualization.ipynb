{
 "cells": [
  {
   "cell_type": "markdown",
   "id": "04d4021f",
   "metadata": {},
   "source": [
    "# OCO-2 Data Visualization with Giovanni"
   ]
  },
  {
   "cell_type": "markdown",
   "id": "5525c24f",
   "metadata": {},
   "source": [
    "Giovanni - a tool to visualize all the data in the NASA GES DISC website(https://disc.gsfc.nasa.gov/)\n",
    "\n",
    "Giovanni - https://giovanni.gsfc.nasa.gov/giovanni/"
   ]
  },
  {
   "cell_type": "markdown",
   "id": "6f80ccb6",
   "metadata": {},
   "source": [
    "The parametrs to modify here are:\n",
    "    1. Type of the plot\n",
    "    2. Date Range\n",
    "    3. Region"
   ]
  },
  {
   "cell_type": "markdown",
   "id": "6141e44e",
   "metadata": {},
   "source": [
    "Here, OCO2-L3 monthly and daily data were chosen for this visulaization"
   ]
  },
  {
   "cell_type": "markdown",
   "id": "b391b69a",
   "metadata": {},
   "source": [
    "**Area-Averaged Time series data** and **Animation Maps** plots were drawn"
   ]
  },
  {
   "cell_type": "markdown",
   "id": "3517a2be",
   "metadata": {},
   "source": [
    "The bounding box coordinates for Kenya region upto 3 precisions:\n",
    "    33.893, -4.677, 41.856, 5.506"
   ]
  },
  {
   "cell_type": "markdown",
   "id": "fda4bc9f",
   "metadata": {},
   "source": [
    "Select CO2 in the variables and we can use all the data related to CO2 for our visualization"
   ]
  },
  {
   "cell_type": "markdown",
   "id": "e5e8f515",
   "metadata": {},
   "source": [
    "Check the other files in the directory for visualizations"
   ]
  },
  {
   "cell_type": "code",
   "execution_count": null,
   "id": "39b72ad6",
   "metadata": {},
   "outputs": [],
   "source": []
  }
 ],
 "metadata": {
  "kernelspec": {
   "display_name": "Python 3 (ipykernel)",
   "language": "python",
   "name": "python3"
  },
  "language_info": {
   "codemirror_mode": {
    "name": "ipython",
    "version": 3
   },
   "file_extension": ".py",
   "mimetype": "text/x-python",
   "name": "python",
   "nbconvert_exporter": "python",
   "pygments_lexer": "ipython3",
   "version": "3.9.12"
  }
 },
 "nbformat": 4,
 "nbformat_minor": 5
}
