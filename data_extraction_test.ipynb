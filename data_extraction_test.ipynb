{
 "cells": [
  {
   "cell_type": "code",
   "execution_count": 1,
   "id": "e3e2f446",
   "metadata": {},
   "outputs": [],
   "source": [
    "import h5py\n",
    "import numpy as np\n",
    "import pandas as pd"
   ]
  },
  {
   "cell_type": "code",
   "execution_count": 2,
   "id": "8b0b64e9",
   "metadata": {},
   "outputs": [],
   "source": [
    "url = 'oco2_GEOS_L3CO2_month_201502_B10206Ar.nc4'"
   ]
  },
  {
   "cell_type": "code",
   "execution_count": 3,
   "id": "2004c06f",
   "metadata": {},
   "outputs": [
    {
     "data": {
      "text/plain": [
       "<KeysViewHDF5 ['XCO2', 'XCO2PREC', 'lat', 'lon', 'time']>"
      ]
     },
     "execution_count": 3,
     "metadata": {},
     "output_type": "execute_result"
    }
   ],
   "source": [
    "XCO2_2015_test = h5py.File(url, 'r')\n",
    "XCO2_2015_test.keys()"
   ]
  },
  {
   "cell_type": "code",
   "execution_count": 4,
   "id": "7b137d02",
   "metadata": {},
   "outputs": [
    {
     "name": "stdout",
     "output_type": "stream",
     "text": [
      "Latitude unit : degrees_north\n",
      "Longitude unit : degrees_east\n",
      "XCO2 data unit : mol CO2/mol dry\n"
     ]
    }
   ],
   "source": [
    "print('Latitude unit : {}'.format(XCO2_2015_test['lat'].attrs['units'].decode()))\n",
    "print('Longitude unit : {}'.format(XCO2_2015_test['lon'].attrs['units'].decode()))\n",
    "print('XCO2 data unit : {}'.format(XCO2_2015_test['XCO2'].attrs['units'].decode()))"
   ]
  },
  {
   "cell_type": "code",
   "execution_count": 5,
   "id": "5ff22442",
   "metadata": {},
   "outputs": [
    {
     "name": "stdout",
     "output_type": "stream",
     "text": [
      "Latitude shape : <HDF5 dataset \"lat\": shape (361,), type \"<f8\">\n",
      "Longitude shape : <HDF5 dataset \"lon\": shape (576,), type \"<f8\">\n",
      "XCO2 data shape : <HDF5 dataset \"XCO2\": shape (1, 361, 576), type \"<f8\">\n"
     ]
    }
   ],
   "source": [
    "print('Latitude shape : {}'.format(XCO2_2015_test['lat']))\n",
    "print('Longitude shape : {}'.format(XCO2_2015_test['lon']))\n",
    "print('XCO2 data shape : {}'.format(XCO2_2015_test['XCO2']))"
   ]
  },
  {
   "cell_type": "code",
   "execution_count": 6,
   "id": "fbe36856",
   "metadata": {},
   "outputs": [],
   "source": [
    "latitude_values = list(XCO2_2015_test['lat'])\n",
    "longitude_values = list(XCO2_2015_test['lon'])\n",
    "XCO2_values = list(XCO2_2015_test['XCO2'])[0]\n",
    "XCO2PREC_values = list(XCO2_2015_test['XCO2PREC'])[0]"
   ]
  },
  {
   "cell_type": "code",
   "execution_count": 7,
   "id": "b0dbbe56",
   "metadata": {},
   "outputs": [],
   "source": [
    "latitude_values_for_df = np.repeat(latitude_values,len(longitude_values))\n",
    "longitude_values_for_df =  np.array(longitude_values * len(latitude_values))\n",
    "\n",
    "XCO2_values_for_df = XCO2_values.flatten()\n",
    "XCO2PREC_values_for_df = XCO2PREC_values.flatten()"
   ]
  },
  {
   "cell_type": "code",
   "execution_count": 8,
   "id": "f47266ce",
   "metadata": {},
   "outputs": [],
   "source": [
    "XCO2_df = pd.DataFrame({'lat (degrees_north)' : latitude_values_for_df, \n",
    "                        'lon (degrees_east)' : longitude_values_for_df, \n",
    "                        'XCO2 (mol CO2/mol dry)' : XCO2_values_for_df,  \n",
    "                        'XCO2PREC (mol CO2/mol dry)' : XCO2PREC_values_for_df} )"
   ]
  },
  {
   "cell_type": "code",
   "execution_count": 9,
   "id": "14ccab3f",
   "metadata": {},
   "outputs": [
    {
     "data": {
      "text/html": [
       "<div>\n",
       "<style scoped>\n",
       "    .dataframe tbody tr th:only-of-type {\n",
       "        vertical-align: middle;\n",
       "    }\n",
       "\n",
       "    .dataframe tbody tr th {\n",
       "        vertical-align: top;\n",
       "    }\n",
       "\n",
       "    .dataframe thead th {\n",
       "        text-align: right;\n",
       "    }\n",
       "</style>\n",
       "<table border=\"1\" class=\"dataframe\">\n",
       "  <thead>\n",
       "    <tr style=\"text-align: right;\">\n",
       "      <th></th>\n",
       "      <th>lat (degrees_north)</th>\n",
       "      <th>lon (degrees_east)</th>\n",
       "      <th>XCO2 (mol CO2/mol dry)</th>\n",
       "      <th>XCO2PREC (mol CO2/mol dry)</th>\n",
       "    </tr>\n",
       "  </thead>\n",
       "  <tbody>\n",
       "    <tr>\n",
       "      <th>0</th>\n",
       "      <td>-90.0</td>\n",
       "      <td>-180.000</td>\n",
       "      <td>0.000395</td>\n",
       "      <td>1.889822e-07</td>\n",
       "    </tr>\n",
       "    <tr>\n",
       "      <th>1</th>\n",
       "      <td>-90.0</td>\n",
       "      <td>-179.375</td>\n",
       "      <td>0.000395</td>\n",
       "      <td>1.889822e-07</td>\n",
       "    </tr>\n",
       "    <tr>\n",
       "      <th>2</th>\n",
       "      <td>-90.0</td>\n",
       "      <td>-178.750</td>\n",
       "      <td>0.000395</td>\n",
       "      <td>1.889822e-07</td>\n",
       "    </tr>\n",
       "    <tr>\n",
       "      <th>3</th>\n",
       "      <td>-90.0</td>\n",
       "      <td>-178.125</td>\n",
       "      <td>0.000395</td>\n",
       "      <td>1.889822e-07</td>\n",
       "    </tr>\n",
       "    <tr>\n",
       "      <th>4</th>\n",
       "      <td>-90.0</td>\n",
       "      <td>-177.500</td>\n",
       "      <td>0.000395</td>\n",
       "      <td>1.889822e-07</td>\n",
       "    </tr>\n",
       "    <tr>\n",
       "      <th>...</th>\n",
       "      <td>...</td>\n",
       "      <td>...</td>\n",
       "      <td>...</td>\n",
       "      <td>...</td>\n",
       "    </tr>\n",
       "    <tr>\n",
       "      <th>207931</th>\n",
       "      <td>90.0</td>\n",
       "      <td>176.875</td>\n",
       "      <td>0.000402</td>\n",
       "      <td>1.889822e-07</td>\n",
       "    </tr>\n",
       "    <tr>\n",
       "      <th>207932</th>\n",
       "      <td>90.0</td>\n",
       "      <td>177.500</td>\n",
       "      <td>0.000402</td>\n",
       "      <td>1.889822e-07</td>\n",
       "    </tr>\n",
       "    <tr>\n",
       "      <th>207933</th>\n",
       "      <td>90.0</td>\n",
       "      <td>178.125</td>\n",
       "      <td>0.000402</td>\n",
       "      <td>1.889822e-07</td>\n",
       "    </tr>\n",
       "    <tr>\n",
       "      <th>207934</th>\n",
       "      <td>90.0</td>\n",
       "      <td>178.750</td>\n",
       "      <td>0.000402</td>\n",
       "      <td>1.889822e-07</td>\n",
       "    </tr>\n",
       "    <tr>\n",
       "      <th>207935</th>\n",
       "      <td>90.0</td>\n",
       "      <td>179.375</td>\n",
       "      <td>0.000402</td>\n",
       "      <td>1.889822e-07</td>\n",
       "    </tr>\n",
       "  </tbody>\n",
       "</table>\n",
       "<p>207936 rows × 4 columns</p>\n",
       "</div>"
      ],
      "text/plain": [
       "        lat (degrees_north)  lon (degrees_east)  XCO2 (mol CO2/mol dry)  \\\n",
       "0                     -90.0            -180.000                0.000395   \n",
       "1                     -90.0            -179.375                0.000395   \n",
       "2                     -90.0            -178.750                0.000395   \n",
       "3                     -90.0            -178.125                0.000395   \n",
       "4                     -90.0            -177.500                0.000395   \n",
       "...                     ...                 ...                     ...   \n",
       "207931                 90.0             176.875                0.000402   \n",
       "207932                 90.0             177.500                0.000402   \n",
       "207933                 90.0             178.125                0.000402   \n",
       "207934                 90.0             178.750                0.000402   \n",
       "207935                 90.0             179.375                0.000402   \n",
       "\n",
       "        XCO2PREC (mol CO2/mol dry)  \n",
       "0                     1.889822e-07  \n",
       "1                     1.889822e-07  \n",
       "2                     1.889822e-07  \n",
       "3                     1.889822e-07  \n",
       "4                     1.889822e-07  \n",
       "...                            ...  \n",
       "207931                1.889822e-07  \n",
       "207932                1.889822e-07  \n",
       "207933                1.889822e-07  \n",
       "207934                1.889822e-07  \n",
       "207935                1.889822e-07  \n",
       "\n",
       "[207936 rows x 4 columns]"
      ]
     },
     "execution_count": 9,
     "metadata": {},
     "output_type": "execute_result"
    }
   ],
   "source": [
    "XCO2_df"
   ]
  },
  {
   "cell_type": "code",
   "execution_count": null,
   "id": "33bce668",
   "metadata": {},
   "outputs": [],
   "source": []
  }
 ],
 "metadata": {
  "kernelspec": {
   "display_name": "Python 3 (ipykernel)",
   "language": "python",
   "name": "python3"
  },
  "language_info": {
   "codemirror_mode": {
    "name": "ipython",
    "version": 3
   },
   "file_extension": ".py",
   "mimetype": "text/x-python",
   "name": "python",
   "nbconvert_exporter": "python",
   "pygments_lexer": "ipython3",
   "version": "3.9.12"
  }
 },
 "nbformat": 4,
 "nbformat_minor": 5
}
