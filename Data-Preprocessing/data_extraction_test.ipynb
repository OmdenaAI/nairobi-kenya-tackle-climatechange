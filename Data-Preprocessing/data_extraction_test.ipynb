{
 "cells": [
  {
   "cell_type": "code",
   "execution_count": 2,
   "id": "e3e2f446",
   "metadata": {},
   "outputs": [],
   "source": [
    "import h5py\n",
    "import numpy as np\n",
    "import pandas as pd\n",
    "import matplotlib.pyplot as plt\n",
    "import netCDF4"
   ]
  },
  {
   "cell_type": "code",
   "execution_count": 3,
   "id": "8b0b64e9",
   "metadata": {},
   "outputs": [],
   "source": [
    "url = 'oco2_GEOS_L3CO2_month_201502_B10206Ar.nc4'"
   ]
  },
  {
   "cell_type": "code",
   "execution_count": 4,
   "id": "b4ef7b19",
   "metadata": {},
   "outputs": [],
   "source": [
    "df_oco3= netCDF4.Dataset('oco2_GEOS_L3CO2_month_201502_B10206Ar.nc4')"
   ]
  },
  {
   "cell_type": "code",
   "execution_count": 5,
   "id": "13ac4583",
   "metadata": {},
   "outputs": [
    {
     "data": {
      "text/plain": [
       "<class 'netCDF4._netCDF4.Dataset'>\n",
       "root group (NETCDF4 data model, file format HDF5):\n",
       "    RangeBeginningDate: 2015-02-01\n",
       "    RangeBeginningTime: 00:00:00.000000\n",
       "    RangeEndingDate: 2015-02-01\n",
       "    RangeEndingTime: 23:59:99.999999\n",
       "    SpatialCoverage: global\n",
       "    SouthBoundingCoordinate: -90.0\n",
       "    NorthBoundingCoordinate: 90.0\n",
       "    WestBoundingCoordinate: -180.0\n",
       "    EastBoundingCoordinate: 179.375\n",
       "    LatitudeResolution: 0.5\n",
       "    LongitudeResolution: 0.625\n",
       "    DataResolution: 0.5x0.625\n",
       "    Format: NetCDF-4/HDF-5\n",
       "    Conventions: CF-1\n",
       "    VersionID: V10r\n",
       "    BuildId: B10.2.06\n",
       "    IdentifierProductDOIAuthority: http://doi.org/\n",
       "    Institution: NASA GSFC Global Modeling and Assimilation Office and OCO-2 Project, Jet Propulsion Laboratory\n",
       "    Contact: Brad Weir (brad.weir@nasa.gov)\n",
       "    ProductionDateTime: 2022-03-15T11:56:08Z\n",
       "    History: Original file generated: Tue Mar 15 11:56:08 2022 GMT\n",
       "    ShortName: OCO2_GEOS_L3CO2_MONTH_10r\n",
       "    LongName: OCO-2 GEOS Level 3 monthly, 0.5x0.625 assimilated CO2\n",
       "    Title: OCO-2 GEOS Level 3 monthly, 0.5x0.625 assimilated CO2\n",
       "    IdentifierProductDOI: 10.5067/BGFIODET3HZ8\n",
       "    dimensions(sizes): time(1), lat(361), lon(576)\n",
       "    variables(dimensions): float64 XCO2(time, lat, lon), float64 XCO2PREC(time, lat, lon), float64 lat(lat), float64 lon(lon), float64 time(time)\n",
       "    groups: "
      ]
     },
     "execution_count": 5,
     "metadata": {},
     "output_type": "execute_result"
    }
   ],
   "source": [
    "df_oco3"
   ]
  },
  {
   "cell_type": "code",
   "execution_count": 6,
   "id": "2004c06f",
   "metadata": {},
   "outputs": [
    {
     "data": {
      "text/plain": [
       "<KeysViewHDF5 ['XCO2', 'XCO2PREC', 'lat', 'lon', 'time']>"
      ]
     },
     "execution_count": 6,
     "metadata": {},
     "output_type": "execute_result"
    }
   ],
   "source": [
    "XCO2_2015_test = h5py.File(url, 'r')\n",
    "XCO2_2015_test.keys()"
   ]
  },
  {
   "cell_type": "code",
   "execution_count": 7,
   "id": "7b137d02",
   "metadata": {},
   "outputs": [
    {
     "name": "stdout",
     "output_type": "stream",
     "text": [
      "Latitude unit : degrees_north\n",
      "Longitude unit : degrees_east\n",
      "XCO2 data unit : mol CO2/mol dry\n",
      "XCO2PREC data unit : mol CO2/mol dry\n"
     ]
    }
   ],
   "source": [
    "print('Latitude unit : {}'.format(XCO2_2015_test['lat'].attrs['units'].decode()))\n",
    "print('Longitude unit : {}'.format(XCO2_2015_test['lon'].attrs['units'].decode()))\n",
    "print('XCO2 data unit : {}'.format(XCO2_2015_test['XCO2'].attrs['units'].decode()))\n",
    "print('XCO2PREC data unit : {}'.format(XCO2_2015_test['XCO2PREC'].attrs['units'].decode()))"
   ]
  },
  {
   "cell_type": "code",
   "execution_count": 8,
   "id": "5ff22442",
   "metadata": {},
   "outputs": [
    {
     "name": "stdout",
     "output_type": "stream",
     "text": [
      "Latitude shape : <HDF5 dataset \"lat\": shape (361,), type \"<f8\">\n",
      "Longitude shape : <HDF5 dataset \"lon\": shape (576,), type \"<f8\">\n",
      "XCO2 data shape : <HDF5 dataset \"XCO2\": shape (1, 361, 576), type \"<f8\">\n"
     ]
    }
   ],
   "source": [
    "print('Latitude shape : {}'.format(XCO2_2015_test['lat']))\n",
    "print('Longitude shape : {}'.format(XCO2_2015_test['lon']))\n",
    "print('XCO2 data shape : {}'.format(XCO2_2015_test['XCO2']))"
   ]
  },
  {
   "cell_type": "code",
   "execution_count": 9,
   "id": "fbe36856",
   "metadata": {},
   "outputs": [],
   "source": [
    "latitude_values = list(XCO2_2015_test['lat'])\n",
    "longitude_values = list(XCO2_2015_test['lon'])\n",
    "XCO2_values = list(XCO2_2015_test['XCO2'])[0]\n",
    "XCO2PREC_values = list(XCO2_2015_test['XCO2PREC'])[0]"
   ]
  },
  {
   "cell_type": "code",
   "execution_count": 10,
   "id": "b0dbbe56",
   "metadata": {},
   "outputs": [],
   "source": [
    "latitude_values_for_df = np.repeat(latitude_values,len(longitude_values))\n",
    "longitude_values_for_df =  np.array(longitude_values * len(latitude_values))\n",
    "\n",
    "XCO2_values_for_df = XCO2_values.flatten()\n",
    "XCO2PREC_values_for_df = XCO2PREC_values.flatten()"
   ]
  },
  {
   "cell_type": "code",
   "execution_count": 11,
   "id": "f47266ce",
   "metadata": {},
   "outputs": [],
   "source": [
    "XCO2_df = pd.DataFrame({'lat_degrees_north' : latitude_values_for_df, \n",
    "                        'lon_degrees_east' : longitude_values_for_df, \n",
    "                        'XCO2_mol_CO2_mol_dry' : XCO2_values_for_df,  \n",
    "                        'XCO2PREC_mol_CO2_mol_dry' : XCO2PREC_values_for_df} )"
   ]
  },
  {
   "cell_type": "code",
   "execution_count": 12,
   "id": "14ccab3f",
   "metadata": {},
   "outputs": [
    {
     "data": {
      "text/html": [
       "<div>\n",
       "<style scoped>\n",
       "    .dataframe tbody tr th:only-of-type {\n",
       "        vertical-align: middle;\n",
       "    }\n",
       "\n",
       "    .dataframe tbody tr th {\n",
       "        vertical-align: top;\n",
       "    }\n",
       "\n",
       "    .dataframe thead th {\n",
       "        text-align: right;\n",
       "    }\n",
       "</style>\n",
       "<table border=\"1\" class=\"dataframe\">\n",
       "  <thead>\n",
       "    <tr style=\"text-align: right;\">\n",
       "      <th></th>\n",
       "      <th>lat_degrees_north</th>\n",
       "      <th>lon_degrees_east</th>\n",
       "      <th>XCO2_mol_CO2_mol_dry</th>\n",
       "      <th>XCO2PREC_mol_CO2_mol_dry</th>\n",
       "    </tr>\n",
       "  </thead>\n",
       "  <tbody>\n",
       "    <tr>\n",
       "      <th>0</th>\n",
       "      <td>-90.0</td>\n",
       "      <td>-180.000</td>\n",
       "      <td>0.000395</td>\n",
       "      <td>1.889822e-07</td>\n",
       "    </tr>\n",
       "    <tr>\n",
       "      <th>1</th>\n",
       "      <td>-90.0</td>\n",
       "      <td>-179.375</td>\n",
       "      <td>0.000395</td>\n",
       "      <td>1.889822e-07</td>\n",
       "    </tr>\n",
       "    <tr>\n",
       "      <th>2</th>\n",
       "      <td>-90.0</td>\n",
       "      <td>-178.750</td>\n",
       "      <td>0.000395</td>\n",
       "      <td>1.889822e-07</td>\n",
       "    </tr>\n",
       "    <tr>\n",
       "      <th>3</th>\n",
       "      <td>-90.0</td>\n",
       "      <td>-178.125</td>\n",
       "      <td>0.000395</td>\n",
       "      <td>1.889822e-07</td>\n",
       "    </tr>\n",
       "    <tr>\n",
       "      <th>4</th>\n",
       "      <td>-90.0</td>\n",
       "      <td>-177.500</td>\n",
       "      <td>0.000395</td>\n",
       "      <td>1.889822e-07</td>\n",
       "    </tr>\n",
       "    <tr>\n",
       "      <th>...</th>\n",
       "      <td>...</td>\n",
       "      <td>...</td>\n",
       "      <td>...</td>\n",
       "      <td>...</td>\n",
       "    </tr>\n",
       "    <tr>\n",
       "      <th>207931</th>\n",
       "      <td>90.0</td>\n",
       "      <td>176.875</td>\n",
       "      <td>0.000402</td>\n",
       "      <td>1.889822e-07</td>\n",
       "    </tr>\n",
       "    <tr>\n",
       "      <th>207932</th>\n",
       "      <td>90.0</td>\n",
       "      <td>177.500</td>\n",
       "      <td>0.000402</td>\n",
       "      <td>1.889822e-07</td>\n",
       "    </tr>\n",
       "    <tr>\n",
       "      <th>207933</th>\n",
       "      <td>90.0</td>\n",
       "      <td>178.125</td>\n",
       "      <td>0.000402</td>\n",
       "      <td>1.889822e-07</td>\n",
       "    </tr>\n",
       "    <tr>\n",
       "      <th>207934</th>\n",
       "      <td>90.0</td>\n",
       "      <td>178.750</td>\n",
       "      <td>0.000402</td>\n",
       "      <td>1.889822e-07</td>\n",
       "    </tr>\n",
       "    <tr>\n",
       "      <th>207935</th>\n",
       "      <td>90.0</td>\n",
       "      <td>179.375</td>\n",
       "      <td>0.000402</td>\n",
       "      <td>1.889822e-07</td>\n",
       "    </tr>\n",
       "  </tbody>\n",
       "</table>\n",
       "<p>207936 rows × 4 columns</p>\n",
       "</div>"
      ],
      "text/plain": [
       "        lat_degrees_north  lon_degrees_east  XCO2_mol_CO2_mol_dry  \\\n",
       "0                   -90.0          -180.000              0.000395   \n",
       "1                   -90.0          -179.375              0.000395   \n",
       "2                   -90.0          -178.750              0.000395   \n",
       "3                   -90.0          -178.125              0.000395   \n",
       "4                   -90.0          -177.500              0.000395   \n",
       "...                   ...               ...                   ...   \n",
       "207931               90.0           176.875              0.000402   \n",
       "207932               90.0           177.500              0.000402   \n",
       "207933               90.0           178.125              0.000402   \n",
       "207934               90.0           178.750              0.000402   \n",
       "207935               90.0           179.375              0.000402   \n",
       "\n",
       "        XCO2PREC_mol_CO2_mol_dry  \n",
       "0                   1.889822e-07  \n",
       "1                   1.889822e-07  \n",
       "2                   1.889822e-07  \n",
       "3                   1.889822e-07  \n",
       "4                   1.889822e-07  \n",
       "...                          ...  \n",
       "207931              1.889822e-07  \n",
       "207932              1.889822e-07  \n",
       "207933              1.889822e-07  \n",
       "207934              1.889822e-07  \n",
       "207935              1.889822e-07  \n",
       "\n",
       "[207936 rows x 4 columns]"
      ]
     },
     "execution_count": 12,
     "metadata": {},
     "output_type": "execute_result"
    }
   ],
   "source": [
    "XCO2_df"
   ]
  },
  {
   "cell_type": "code",
   "execution_count": 13,
   "id": "9aa27cd7",
   "metadata": {},
   "outputs": [
    {
     "data": {
      "text/html": [
       "<div>\n",
       "<style scoped>\n",
       "    .dataframe tbody tr th:only-of-type {\n",
       "        vertical-align: middle;\n",
       "    }\n",
       "\n",
       "    .dataframe tbody tr th {\n",
       "        vertical-align: top;\n",
       "    }\n",
       "\n",
       "    .dataframe thead th {\n",
       "        text-align: right;\n",
       "    }\n",
       "</style>\n",
       "<table border=\"1\" class=\"dataframe\">\n",
       "  <thead>\n",
       "    <tr style=\"text-align: right;\">\n",
       "      <th></th>\n",
       "      <th>lat_degrees_north</th>\n",
       "      <th>lon_degrees_east</th>\n",
       "      <th>XCO2_mol_CO2_mol_dry</th>\n",
       "      <th>XCO2PREC_mol_CO2_mol_dry</th>\n",
       "    </tr>\n",
       "  </thead>\n",
       "  <tbody>\n",
       "    <tr>\n",
       "      <th>99415</th>\n",
       "      <td>-4.0</td>\n",
       "      <td>34.375</td>\n",
       "      <td>0.000399</td>\n",
       "      <td>4.921543e-08</td>\n",
       "    </tr>\n",
       "    <tr>\n",
       "      <th>99416</th>\n",
       "      <td>-4.0</td>\n",
       "      <td>35.000</td>\n",
       "      <td>0.000398</td>\n",
       "      <td>4.582556e-08</td>\n",
       "    </tr>\n",
       "    <tr>\n",
       "      <th>99417</th>\n",
       "      <td>-4.0</td>\n",
       "      <td>35.625</td>\n",
       "      <td>0.000398</td>\n",
       "      <td>4.240366e-08</td>\n",
       "    </tr>\n",
       "    <tr>\n",
       "      <th>99418</th>\n",
       "      <td>-4.0</td>\n",
       "      <td>36.250</td>\n",
       "      <td>0.000398</td>\n",
       "      <td>3.899713e-08</td>\n",
       "    </tr>\n",
       "    <tr>\n",
       "      <th>99419</th>\n",
       "      <td>-4.0</td>\n",
       "      <td>36.875</td>\n",
       "      <td>0.000398</td>\n",
       "      <td>3.566998e-08</td>\n",
       "    </tr>\n",
       "    <tr>\n",
       "      <th>...</th>\n",
       "      <td>...</td>\n",
       "      <td>...</td>\n",
       "      <td>...</td>\n",
       "      <td>...</td>\n",
       "    </tr>\n",
       "    <tr>\n",
       "      <th>108063</th>\n",
       "      <td>3.5</td>\n",
       "      <td>39.375</td>\n",
       "      <td>0.000399</td>\n",
       "      <td>2.954548e-08</td>\n",
       "    </tr>\n",
       "    <tr>\n",
       "      <th>108064</th>\n",
       "      <td>3.5</td>\n",
       "      <td>40.000</td>\n",
       "      <td>0.000399</td>\n",
       "      <td>2.858764e-08</td>\n",
       "    </tr>\n",
       "    <tr>\n",
       "      <th>108065</th>\n",
       "      <td>3.5</td>\n",
       "      <td>40.625</td>\n",
       "      <td>0.000399</td>\n",
       "      <td>2.804648e-08</td>\n",
       "    </tr>\n",
       "    <tr>\n",
       "      <th>108066</th>\n",
       "      <td>3.5</td>\n",
       "      <td>41.250</td>\n",
       "      <td>0.000399</td>\n",
       "      <td>2.764866e-08</td>\n",
       "    </tr>\n",
       "    <tr>\n",
       "      <th>108067</th>\n",
       "      <td>3.5</td>\n",
       "      <td>41.875</td>\n",
       "      <td>0.000399</td>\n",
       "      <td>2.737983e-08</td>\n",
       "    </tr>\n",
       "  </tbody>\n",
       "</table>\n",
       "<p>208 rows × 4 columns</p>\n",
       "</div>"
      ],
      "text/plain": [
       "        lat_degrees_north  lon_degrees_east  XCO2_mol_CO2_mol_dry  \\\n",
       "99415                -4.0            34.375              0.000399   \n",
       "99416                -4.0            35.000              0.000398   \n",
       "99417                -4.0            35.625              0.000398   \n",
       "99418                -4.0            36.250              0.000398   \n",
       "99419                -4.0            36.875              0.000398   \n",
       "...                   ...               ...                   ...   \n",
       "108063                3.5            39.375              0.000399   \n",
       "108064                3.5            40.000              0.000399   \n",
       "108065                3.5            40.625              0.000399   \n",
       "108066                3.5            41.250              0.000399   \n",
       "108067                3.5            41.875              0.000399   \n",
       "\n",
       "        XCO2PREC_mol_CO2_mol_dry  \n",
       "99415               4.921543e-08  \n",
       "99416               4.582556e-08  \n",
       "99417               4.240366e-08  \n",
       "99418               3.899713e-08  \n",
       "99419               3.566998e-08  \n",
       "...                          ...  \n",
       "108063              2.954548e-08  \n",
       "108064              2.858764e-08  \n",
       "108065              2.804648e-08  \n",
       "108066              2.764866e-08  \n",
       "108067              2.737983e-08  \n",
       "\n",
       "[208 rows x 4 columns]"
      ]
     },
     "execution_count": 13,
     "metadata": {},
     "output_type": "execute_result"
    }
   ],
   "source": [
    "XCO2_df[(XCO2_df[\"lat_degrees_north\"]>-4.5) & (XCO2_df[\"lat_degrees_north\"]<4.0) & (XCO2_df[\"lon_degrees_east\"]>33.9) & (XCO2_df[\"lon_degrees_east\"]<41.90)]"
   ]
  },
  {
   "cell_type": "code",
   "execution_count": 14,
   "id": "23f5f9bf",
   "metadata": {},
   "outputs": [
    {
     "data": {
      "image/png": "[encoded data removed]",
      "text/plain": [
       "<Figure size 432x288 with 1 Axes>"
      ]
     },
     "metadata": {
      "needs_background": "light"
     },
     "output_type": "display_data"
    }
   ],
   "source": [
    "plt.plot(XCO2_df[\"lat_degrees_north\"], XCO2_df[\"XCO2_mol_CO2_mol_dry\"])  # Plot the chart\n",
    "plt.show()  # display"
   ]
  },
  {
   "cell_type": "code",
   "execution_count": 15,
   "id": "1ca3c741",
   "metadata": {},
   "outputs": [
    {
     "data": {
      "image/png": "[encoded data removed]",
      "text/plain": [
       "<Figure size 432x288 with 1 Axes>"
      ]
     },
     "metadata": {
      "needs_background": "light"
     },
     "output_type": "display_data"
    }
   ],
   "source": [
    "plt.plot(XCO2_df[\"lon_degrees_east\"], XCO2_df[\"XCO2_mol_CO2_mol_dry\"])  # Plot the chart\n",
    "plt.show()  # display"
   ]
  },
  {
   "cell_type": "code",
   "execution_count": null,
   "id": "30a932df",
   "metadata": {},
   "outputs": [],
   "source": []
  }
 ],
 "metadata": {
  "kernelspec": {
   "display_name": "Python 3 (ipykernel)",
   "language": "python",
   "name": "python3"
  },
  "language_info": {
   "codemirror_mode": {
    "name": "ipython",
    "version": 3
   },
   "file_extension": ".py",
   "mimetype": "text/x-python",
   "name": "python",
   "nbconvert_exporter": "python",
   "pygments_lexer": "ipython3",
   "version": "3.10.2"
  }
 },
 "nbformat": 4,
 "nbformat_minor": 5
}
