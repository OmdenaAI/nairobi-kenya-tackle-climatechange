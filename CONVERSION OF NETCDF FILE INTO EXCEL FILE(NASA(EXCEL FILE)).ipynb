{
 "cells": [
  {
   "cell_type": "markdown",
   "id": "1088151b",
   "metadata": {},
   "source": [
    "# WELCOME"
   ]
  },
  {
   "cell_type": "code",
   "execution_count": null,
   "id": "cac8c38c",
   "metadata": {},
   "outputs": [],
   "source": [
    "#DATA PREPROCESING"
   ]
  },
  {
   "cell_type": "code",
   "execution_count": 2,
   "id": "d1d05e62",
   "metadata": {},
   "outputs": [
    {
     "name": "stdout",
     "output_type": "stream",
     "text": [
      "Requirement already satisfied: pandas in c:\\users\\srk\\anaconda3\\lib\\site-packages (1.5.0)\n",
      "Requirement already satisfied: numpy in c:\\users\\srk\\anaconda3\\lib\\site-packages (1.23.4)\n",
      "Requirement already satisfied: matplotlib in c:\\users\\srk\\anaconda3\\lib\\site-packages (3.3.4)\n",
      "Requirement already satisfied: xarray in c:\\users\\srk\\anaconda3\\lib\\site-packages (2022.10.0)\n",
      "Requirement already satisfied: netCDF4 in c:\\users\\srk\\anaconda3\\lib\\site-packages (1.6.1)\n",
      "Requirement already satisfied: plotly in c:\\users\\srk\\anaconda3\\lib\\site-packages (5.10.0)\n",
      "Requirement already satisfied: kiwisolver>=1.0.1 in c:\\users\\srk\\anaconda3\\lib\\site-packages (from matplotlib) (1.3.1)\n",
      "Requirement already satisfied: python-dateutil>=2.1 in c:\\users\\srk\\anaconda3\\lib\\site-packages (from matplotlib) (2.8.1)\n",
      "Requirement already satisfied: pillow>=6.2.0 in c:\\users\\srk\\anaconda3\\lib\\site-packages (from matplotlib) (8.2.0)\n",
      "Requirement already satisfied: cycler>=0.10 in c:\\users\\srk\\anaconda3\\lib\\site-packages (from matplotlib) (0.10.0)\n",
      "Requirement already satisfied: pyparsing!=2.0.4,!=2.1.2,!=2.1.6,>=2.0.3 in c:\\users\\srk\\anaconda3\\lib\\site-packages (from matplotlib) (2.4.7)\n",
      "Requirement already satisfied: six in c:\\users\\srk\\anaconda3\\lib\\site-packages (from cycler>=0.10->matplotlib) (1.15.0)\n",
      "Requirement already satisfied: cftime in c:\\users\\srk\\anaconda3\\lib\\site-packages (from netCDF4) (1.6.2)\n",
      "Requirement already satisfied: pytz>=2020.1 in c:\\users\\srk\\anaconda3\\lib\\site-packages (from pandas) (2021.1)\n",
      "Requirement already satisfied: tenacity>=6.2.0 in c:\\users\\srk\\anaconda3\\lib\\site-packages (from plotly) (8.1.0)\n",
      "Requirement already satisfied: packaging>=21.0 in c:\\users\\srk\\anaconda3\\lib\\site-packages (from xarray) (21.3)\n",
      "Note: you may need to restart the kernel to use updated packages.\n"
     ]
    }
   ],
   "source": [
    "pip install pandas numpy matplotlib xarray netCDF4 plotly"
   ]
  },
  {
   "cell_type": "code",
   "execution_count": 3,
   "id": "43111183",
   "metadata": {},
   "outputs": [
    {
     "name": "stdout",
     "output_type": "stream",
     "text": [
      "Requirement already satisfied: basemap in c:\\users\\srk\\anaconda3\\lib\\site-packages (1.3.4)\n",
      "Requirement already satisfied: numpy<1.24,>=1.22 in c:\\users\\srk\\anaconda3\\lib\\site-packages (from basemap) (1.23.4)\n",
      "Requirement already satisfied: pyshp<2.4,>=1.2 in c:\\users\\srk\\anaconda3\\lib\\site-packages (from basemap) (2.3.1)\n",
      "Requirement already satisfied: matplotlib<3.6,>=1.5 in c:\\users\\srk\\anaconda3\\lib\\site-packages (from basemap) (3.3.4)\n",
      "Requirement already satisfied: pyproj<3.4.0,>=1.9.3 in c:\\users\\srk\\anaconda3\\lib\\site-packages (from basemap) (3.3.1)\n",
      "Requirement already satisfied: basemap-data<1.4,>=1.3.2 in c:\\users\\srk\\anaconda3\\lib\\site-packages (from basemap) (1.3.2)\n",
      "Requirement already satisfied: kiwisolver>=1.0.1 in c:\\users\\srk\\anaconda3\\lib\\site-packages (from matplotlib<3.6,>=1.5->basemap) (1.3.1)\n",
      "Requirement already satisfied: pyparsing!=2.0.4,!=2.1.2,!=2.1.6,>=2.0.3 in c:\\users\\srk\\anaconda3\\lib\\site-packages (from matplotlib<3.6,>=1.5->basemap) (2.4.7)\n",
      "Requirement already satisfied: cycler>=0.10 in c:\\users\\srk\\anaconda3\\lib\\site-packages (from matplotlib<3.6,>=1.5->basemap) (0.10.0)\n",
      "Requirement already satisfied: python-dateutil>=2.1 in c:\\users\\srk\\anaconda3\\lib\\site-packages (from matplotlib<3.6,>=1.5->basemap) (2.8.1)\n",
      "Requirement already satisfied: pillow>=6.2.0 in c:\\users\\srk\\anaconda3\\lib\\site-packages (from matplotlib<3.6,>=1.5->basemap) (8.2.0)\n",
      "Requirement already satisfied: six in c:\\users\\srk\\anaconda3\\lib\\site-packages (from cycler>=0.10->matplotlib<3.6,>=1.5->basemap) (1.15.0)\n",
      "Requirement already satisfied: certifi in c:\\users\\srk\\anaconda3\\lib\\site-packages (from pyproj<3.4.0,>=1.9.3->basemap) (2020.12.5)\n",
      "Note: you may need to restart the kernel to use updated packages.\n"
     ]
    }
   ],
   "source": [
    "pip install basemap"
   ]
  },
  {
   "cell_type": "code",
   "execution_count": 4,
   "id": "f75bf27f",
   "metadata": {},
   "outputs": [
    {
     "name": "stderr",
     "output_type": "stream",
     "text": [
      "C:\\Users\\SRK\\anaconda3\\lib\\site-packages\\scipy\\__init__.py:138: UserWarning: A NumPy version >=1.16.5 and <1.23.0 is required for this version of SciPy (detected version 1.23.4)\n",
      "  warnings.warn(f\"A NumPy version >={np_minversion} and <{np_maxversion} is required for this version of \"\n"
     ]
    }
   ],
   "source": [
    "#LIBRARY TO OPEN 'netcdf' file\n",
    "import netCDF4\n",
    "import xarray\n",
    "\n",
    "#TO PRE-PROCESS DATA\n",
    "import numpy as np\n",
    "import pandas as pd\n",
    "\n",
    "#TO CREATE VISULAIZATION,GRAPHS AND PLOTS\n",
    "import matplotlib.pyplot as plt\n",
    "import matplotlib.animation as animation\n",
    "\n",
    "#TO CREATE GEO-SPATIAL MAP,REQUIRES DEPENDENCIES INSTALLATION\n",
    "import plotly.express as px\n",
    "#import mpl_toolkits.basemap import Basemap\n",
    "\n",
    "#TO DISPLAY THE CONTENT\n",
    "#from IPython.display import display,HTML,image\n",
    "#from  IPython import display\n",
    "#from datetime import datetime\n"
   ]
  },
  {
   "cell_type": "code",
   "execution_count": 5,
   "id": "9e6a41a8",
   "metadata": {},
   "outputs": [
    {
     "name": "stdout",
     "output_type": "stream",
     "text": [
      "C:\\Users\\SRK\n"
     ]
    }
   ],
   "source": [
    "#TO SHOW WHERE THE DATAFILES ARE PRESENT\n",
    "import os\n",
    "print(os.getcwd())"
   ]
  },
  {
   "cell_type": "code",
   "execution_count": 6,
   "id": "eb030919",
   "metadata": {},
   "outputs": [],
   "source": [
    "#USING NETCDF TO READ THE FILES\n",
    "data_XC02=netCDF4.Dataset(r'E:\\oco2_GEOS_L3CO2_month_201502_B10206Ar.nc4')"
   ]
  },
  {
   "cell_type": "markdown",
   "id": "83b3d7ed",
   "metadata": {},
   "source": [
    "# CONVERT NETCDF FILE INTO CSV FILE"
   ]
  },
  {
   "cell_type": "code",
   "execution_count": 7,
   "id": "156a5232",
   "metadata": {},
   "outputs": [],
   "source": [
    "#CSV STANDS FOR COMMA SEPERATED VALUES FILE"
   ]
  },
  {
   "cell_type": "code",
   "execution_count": 8,
   "id": "58ac5f87",
   "metadata": {},
   "outputs": [],
   "source": [
    "import xarray as xr\n",
    "\n",
    "nc = xr.open_dataset(r'E:\\oco2_GEOS_L3CO2_month_201502_B10206Ar.nc4')\n",
    "nc.to_dataframe().to_csv('nc.csv')"
   ]
  },
  {
   "cell_type": "markdown",
   "id": "72ce8d34",
   "metadata": {},
   "source": [
    "# DATA PREPROCESSING STEPS"
   ]
  },
  {
   "cell_type": "code",
   "execution_count": 9,
   "id": "588f6df1",
   "metadata": {},
   "outputs": [],
   "source": [
    "#DEFINITION OF DATA PREPROCESSING"
   ]
  },
  {
   "cell_type": "code",
   "execution_count": 10,
   "id": "c3db1189",
   "metadata": {},
   "outputs": [],
   "source": [
    "#Data preprocessing involves transforming raw data to well-formed data sets so that data mining analytics can be applied.\n",
    "#Raw data is often incomplete and has inconsistent formatting.\n",
    "#Data preprocessing includes Data preparation and filtering steps. \n",
    "#Examples of data preprocessing include cleaning, \n",
    "#instance selection, normalization, one hot encoding, transformation, feature extraction and selection, etc.\n",
    "#The product of data preprocessing is the final training set.\n",
    "#After data preprocessing,we do Data Modelling."
   ]
  },
  {
   "cell_type": "code",
   "execution_count": 11,
   "id": "a7b8b68e",
   "metadata": {},
   "outputs": [],
   "source": [
    "#WHY WE DO DATA PREPROCESSING?"
   ]
  },
  {
   "cell_type": "code",
   "execution_count": 12,
   "id": "788ad7c0",
   "metadata": {},
   "outputs": [],
   "source": [
    "#BECAUSE THERE ARE MANY PROBLEMS WITH RAW DATA.\n",
    "#WHAT IS RAW DATA?\n",
    "#Raw data, is the,data collected from a source."
   ]
  },
  {
   "cell_type": "code",
   "execution_count": 13,
   "id": "917ab344",
   "metadata": {},
   "outputs": [],
   "source": [
    "#PROBLEMS WITH RAW DATA ARE AS FOLLOWS:\n",
    "#FEATURE REPRESENTS COLUMN\n",
    "#OUR DATASET HAS FEATURES time,lat(latitude),lon(longitude),XCO2,XCO2PREC    \n",
    "#1.IRRELEVANT FEATURES( FEATURES THAT DOESN'T AFFECT YOUR OUTPUT)\n",
    "#2.MISSING FEATURES (FEATURES THAT IS NEEDED BUT MISSING FROM THE DATASET)\n",
    "#3.REDUNDANT FEATURES (REPITION OF FEATURES)\n",
    "#4.MISSING FEATURE VALUES\n",
    "#5.INCONSISTENT AND DUPLICATE FEATURE VALUES\n"
   ]
  },
  {
   "cell_type": "code",
   "execution_count": 14,
   "id": "3fc4094b",
   "metadata": {},
   "outputs": [],
   "source": [
    "#SOLUTIONS FOR ABOVE PROBLEMS ARE GIVEN BELOW\n",
    "#1.REMOVE IRREVELANT FEATURES FROM DATASET BY USING\n",
    "#drop() that removes rows or columns according to specify column(label) names and corresponding axis\n",
    "\n",
    "#2.FOR MISSING FEATURES,WE CAN DO FOLLOWING STEPS\n",
    "#2.1.Fill missing value manually\n",
    "#2.2 Use global constant\n",
    "\n",
    "#3.REDUNDANT FEATURES (REPITION OF FEATURES)\n",
    "#WHAT IS A CATEGORICAL VARIABLE?\n",
    "#VARIABLE THAT CONTAINS LABEL VALUE RATHER THAN NUMERIC DATA.\n",
    "#IF THE REDUNDANT FEATURE IS A CATEGORICAL VARIABLE,THEN DO ONE HOT ENCODING.\n",
    "#FOR INSTANCE IN A DATASET WHERE CAR,BIKE IS USED MANY TIMES SO WE TAKE VARIABLE 'CAR' as 0 and 'BIKE' as 1.so\n",
    "#wherever car is used in whole dataset it is being replaced by '0' and wherever bike is used in whole\n",
    "#dataser it is being replaced by '1'.\n",
    "\n",
    "#4.FOR MISSING FEATURE VALUES,WE CAN DO FOLLOWING.\n",
    "#4.1 Fill missing value using Mean, Median & Mode\n",
    "#4.2 Measure of central tendency for each class\n",
    "\n",
    "#5.#5.INCONSISTENT AND DUPLICATE FEATURE VALUES\n",
    "#FOR INCONSISTENT AND DUPLICATE FEATURE VALUES,REMOVE IT."
   ]
  },
  {
   "cell_type": "code",
   "execution_count": 15,
   "id": "93dc0e67",
   "metadata": {},
   "outputs": [],
   "source": [
    "#DATA PREPROCESSING STEPS INCLUDES FOLLOWING STEPS:"
   ]
  },
  {
   "cell_type": "code",
   "execution_count": 16,
   "id": "0c139387",
   "metadata": {},
   "outputs": [],
   "source": [
    "#1.Load data in Pandas.\n",
    "#2.Drop columns that aren't useful.\n",
    "#3.Drop rows with missing values.\n",
    "#4.Create dummy variables.\n",
    "#5.Take care of missing data.\n",
    "#6.Convert the data frame to NumPy.\n",
    "#7.Taking care of Categorical Features\n",
    "#8.Normalizing the Dataset.\n",
    "#7.Divide the data set into training data and test data."
   ]
  },
  {
   "cell_type": "code",
   "execution_count": 17,
   "id": "585fcb96",
   "metadata": {},
   "outputs": [],
   "source": [
    "#Categorical features can only take on a limited, and usually fixed, number of possible values. For example, \n",
    "#if a dataset is about information related to users, then you will typically find features like country, gender, age group, etc.\n",
    "#A continuous variable can be numeric or a date/time."
   ]
  },
  {
   "cell_type": "code",
   "execution_count": 18,
   "id": "0592abdb",
   "metadata": {},
   "outputs": [],
   "source": [
    "#READ CSV FILE\n",
    "data = pd.read_csv(\"nc.csv\")"
   ]
  },
  {
   "cell_type": "code",
   "execution_count": 19,
   "id": "64e7c1e8",
   "metadata": {},
   "outputs": [
    {
     "data": {
      "text/html": [
       "<div>\n",
       "<style scoped>\n",
       "    .dataframe tbody tr th:only-of-type {\n",
       "        vertical-align: middle;\n",
       "    }\n",
       "\n",
       "    .dataframe tbody tr th {\n",
       "        vertical-align: top;\n",
       "    }\n",
       "\n",
       "    .dataframe thead th {\n",
       "        text-align: right;\n",
       "    }\n",
       "</style>\n",
       "<table border=\"1\" class=\"dataframe\">\n",
       "  <thead>\n",
       "    <tr style=\"text-align: right;\">\n",
       "      <th></th>\n",
       "      <th>time</th>\n",
       "      <th>lat</th>\n",
       "      <th>lon</th>\n",
       "      <th>XCO2</th>\n",
       "      <th>XCO2PREC</th>\n",
       "    </tr>\n",
       "  </thead>\n",
       "  <tbody>\n",
       "    <tr>\n",
       "      <th>0</th>\n",
       "      <td>2015-02-15</td>\n",
       "      <td>-90.0</td>\n",
       "      <td>-180.000</td>\n",
       "      <td>0.000395</td>\n",
       "      <td>1.889822e-07</td>\n",
       "    </tr>\n",
       "    <tr>\n",
       "      <th>1</th>\n",
       "      <td>2015-02-15</td>\n",
       "      <td>-90.0</td>\n",
       "      <td>-179.375</td>\n",
       "      <td>0.000395</td>\n",
       "      <td>1.889822e-07</td>\n",
       "    </tr>\n",
       "    <tr>\n",
       "      <th>2</th>\n",
       "      <td>2015-02-15</td>\n",
       "      <td>-90.0</td>\n",
       "      <td>-178.750</td>\n",
       "      <td>0.000395</td>\n",
       "      <td>1.889822e-07</td>\n",
       "    </tr>\n",
       "    <tr>\n",
       "      <th>3</th>\n",
       "      <td>2015-02-15</td>\n",
       "      <td>-90.0</td>\n",
       "      <td>-178.125</td>\n",
       "      <td>0.000395</td>\n",
       "      <td>1.889822e-07</td>\n",
       "    </tr>\n",
       "    <tr>\n",
       "      <th>4</th>\n",
       "      <td>2015-02-15</td>\n",
       "      <td>-90.0</td>\n",
       "      <td>-177.500</td>\n",
       "      <td>0.000395</td>\n",
       "      <td>1.889822e-07</td>\n",
       "    </tr>\n",
       "    <tr>\n",
       "      <th>...</th>\n",
       "      <td>...</td>\n",
       "      <td>...</td>\n",
       "      <td>...</td>\n",
       "      <td>...</td>\n",
       "      <td>...</td>\n",
       "    </tr>\n",
       "    <tr>\n",
       "      <th>207931</th>\n",
       "      <td>2015-02-15</td>\n",
       "      <td>90.0</td>\n",
       "      <td>176.875</td>\n",
       "      <td>0.000402</td>\n",
       "      <td>1.889822e-07</td>\n",
       "    </tr>\n",
       "    <tr>\n",
       "      <th>207932</th>\n",
       "      <td>2015-02-15</td>\n",
       "      <td>90.0</td>\n",
       "      <td>177.500</td>\n",
       "      <td>0.000402</td>\n",
       "      <td>1.889822e-07</td>\n",
       "    </tr>\n",
       "    <tr>\n",
       "      <th>207933</th>\n",
       "      <td>2015-02-15</td>\n",
       "      <td>90.0</td>\n",
       "      <td>178.125</td>\n",
       "      <td>0.000402</td>\n",
       "      <td>1.889822e-07</td>\n",
       "    </tr>\n",
       "    <tr>\n",
       "      <th>207934</th>\n",
       "      <td>2015-02-15</td>\n",
       "      <td>90.0</td>\n",
       "      <td>178.750</td>\n",
       "      <td>0.000402</td>\n",
       "      <td>1.889822e-07</td>\n",
       "    </tr>\n",
       "    <tr>\n",
       "      <th>207935</th>\n",
       "      <td>2015-02-15</td>\n",
       "      <td>90.0</td>\n",
       "      <td>179.375</td>\n",
       "      <td>0.000402</td>\n",
       "      <td>1.889822e-07</td>\n",
       "    </tr>\n",
       "  </tbody>\n",
       "</table>\n",
       "<p>207936 rows × 5 columns</p>\n",
       "</div>"
      ],
      "text/plain": [
       "              time   lat      lon      XCO2      XCO2PREC\n",
       "0       2015-02-15 -90.0 -180.000  0.000395  1.889822e-07\n",
       "1       2015-02-15 -90.0 -179.375  0.000395  1.889822e-07\n",
       "2       2015-02-15 -90.0 -178.750  0.000395  1.889822e-07\n",
       "3       2015-02-15 -90.0 -178.125  0.000395  1.889822e-07\n",
       "4       2015-02-15 -90.0 -177.500  0.000395  1.889822e-07\n",
       "...            ...   ...      ...       ...           ...\n",
       "207931  2015-02-15  90.0  176.875  0.000402  1.889822e-07\n",
       "207932  2015-02-15  90.0  177.500  0.000402  1.889822e-07\n",
       "207933  2015-02-15  90.0  178.125  0.000402  1.889822e-07\n",
       "207934  2015-02-15  90.0  178.750  0.000402  1.889822e-07\n",
       "207935  2015-02-15  90.0  179.375  0.000402  1.889822e-07\n",
       "\n",
       "[207936 rows x 5 columns]"
      ]
     },
     "execution_count": 19,
     "metadata": {},
     "output_type": "execute_result"
    }
   ],
   "source": [
    "# LOAD CSV FILE\n",
    "data"
   ]
  },
  {
   "cell_type": "code",
   "execution_count": 20,
   "id": "ce1d37f6",
   "metadata": {},
   "outputs": [
    {
     "name": "stdout",
     "output_type": "stream",
     "text": [
      "<class 'pandas.core.frame.DataFrame'>\n",
      "RangeIndex: 207936 entries, 0 to 207935\n",
      "Data columns (total 5 columns):\n",
      " #   Column    Non-Null Count   Dtype  \n",
      "---  ------    --------------   -----  \n",
      " 0   time      207936 non-null  object \n",
      " 1   lat       207936 non-null  float64\n",
      " 2   lon       207936 non-null  float64\n",
      " 3   XCO2      207936 non-null  float64\n",
      " 4   XCO2PREC  207936 non-null  float64\n",
      "dtypes: float64(4), object(1)\n",
      "memory usage: 7.9+ MB\n"
     ]
    }
   ],
   "source": [
    "#SHOWS INFORMATION RELATED TO DATASET\n",
    "#Dtype represents Type of the data.It can be integer, float, Python object.\n",
    "data.info()"
   ]
  },
  {
   "cell_type": "code",
   "execution_count": 21,
   "id": "df41c931",
   "metadata": {},
   "outputs": [
    {
     "data": {
      "text/plain": [
       "(207936, 5)"
      ]
     },
     "execution_count": 21,
     "metadata": {},
     "output_type": "execute_result"
    }
   ],
   "source": [
    "#IT HAS 5 COLUMNS AND 207936 rows.\n",
    "#.shape function is used to fetch the dimensions of Pandas(Dimensions include no of rows and columns)\n",
    "data.shape"
   ]
  },
  {
   "cell_type": "code",
   "execution_count": 35,
   "id": "55170766",
   "metadata": {},
   "outputs": [
    {
     "data": {
      "text/html": [
       "<div>\n",
       "<style scoped>\n",
       "    .dataframe tbody tr th:only-of-type {\n",
       "        vertical-align: middle;\n",
       "    }\n",
       "\n",
       "    .dataframe tbody tr th {\n",
       "        vertical-align: top;\n",
       "    }\n",
       "\n",
       "    .dataframe thead th {\n",
       "        text-align: right;\n",
       "    }\n",
       "</style>\n",
       "<table border=\"1\" class=\"dataframe\">\n",
       "  <thead>\n",
       "    <tr style=\"text-align: right;\">\n",
       "      <th></th>\n",
       "      <th>lat</th>\n",
       "      <th>lon</th>\n",
       "      <th>XCO2</th>\n",
       "      <th>XCO2PREC</th>\n",
       "    </tr>\n",
       "  </thead>\n",
       "  <tbody>\n",
       "    <tr>\n",
       "      <th>count</th>\n",
       "      <td>2.079360e+05</td>\n",
       "      <td>207936.000000</td>\n",
       "      <td>207936.000000</td>\n",
       "      <td>2.079360e+05</td>\n",
       "    </tr>\n",
       "    <tr>\n",
       "      <th>mean</th>\n",
       "      <td>0.000000e+00</td>\n",
       "      <td>-0.312500</td>\n",
       "      <td>0.000398</td>\n",
       "      <td>9.709151e-08</td>\n",
       "    </tr>\n",
       "    <tr>\n",
       "      <th>std</th>\n",
       "      <td>5.210579e+01</td>\n",
       "      <td>103.923142</td>\n",
       "      <td>0.000003</td>\n",
       "      <td>7.608682e-08</td>\n",
       "    </tr>\n",
       "    <tr>\n",
       "      <th>min</th>\n",
       "      <td>-9.000000e+01</td>\n",
       "      <td>-180.000000</td>\n",
       "      <td>0.000394</td>\n",
       "      <td>1.889822e-08</td>\n",
       "    </tr>\n",
       "    <tr>\n",
       "      <th>25%</th>\n",
       "      <td>-4.500000e+01</td>\n",
       "      <td>-90.156250</td>\n",
       "      <td>0.000396</td>\n",
       "      <td>2.158526e-08</td>\n",
       "    </tr>\n",
       "    <tr>\n",
       "      <th>50%</th>\n",
       "      <td>-1.797510e-13</td>\n",
       "      <td>-0.312500</td>\n",
       "      <td>0.000399</td>\n",
       "      <td>5.951059e-08</td>\n",
       "    </tr>\n",
       "    <tr>\n",
       "      <th>75%</th>\n",
       "      <td>4.500000e+01</td>\n",
       "      <td>89.531250</td>\n",
       "      <td>0.000401</td>\n",
       "      <td>1.889822e-07</td>\n",
       "    </tr>\n",
       "    <tr>\n",
       "      <th>max</th>\n",
       "      <td>9.000000e+01</td>\n",
       "      <td>179.375000</td>\n",
       "      <td>0.000404</td>\n",
       "      <td>1.889822e-07</td>\n",
       "    </tr>\n",
       "  </tbody>\n",
       "</table>\n",
       "</div>"
      ],
      "text/plain": [
       "                lat            lon           XCO2      XCO2PREC\n",
       "count  2.079360e+05  207936.000000  207936.000000  2.079360e+05\n",
       "mean   0.000000e+00      -0.312500       0.000398  9.709151e-08\n",
       "std    5.210579e+01     103.923142       0.000003  7.608682e-08\n",
       "min   -9.000000e+01    -180.000000       0.000394  1.889822e-08\n",
       "25%   -4.500000e+01     -90.156250       0.000396  2.158526e-08\n",
       "50%   -1.797510e-13      -0.312500       0.000399  5.951059e-08\n",
       "75%    4.500000e+01      89.531250       0.000401  1.889822e-07\n",
       "max    9.000000e+01     179.375000       0.000404  1.889822e-07"
      ]
     },
     "execution_count": 35,
     "metadata": {},
     "output_type": "execute_result"
    }
   ],
   "source": [
    "data.describe()"
   ]
  },
  {
   "cell_type": "markdown",
   "id": "9602d004",
   "metadata": {},
   "source": [
    "# CHECKING FOR NULL VALUES IN DATASET"
   ]
  },
  {
   "cell_type": "code",
   "execution_count": 33,
   "id": "6e5e6577",
   "metadata": {},
   "outputs": [
    {
     "data": {
      "text/plain": [
       "time        0\n",
       "lat         0\n",
       "lon         0\n",
       "XCO2        0\n",
       "XCO2PREC    0\n",
       "dtype: int64"
      ]
     },
     "execution_count": 33,
     "metadata": {},
     "output_type": "execute_result"
    }
   ],
   "source": [
    "data.isnull().sum()"
   ]
  },
  {
   "cell_type": "markdown",
   "id": "189aa895",
   "metadata": {},
   "source": [
    "# CONCLUSION"
   ]
  },
  {
   "cell_type": "code",
   "execution_count": 23,
   "id": "5d1c983e",
   "metadata": {},
   "outputs": [],
   "source": [
    "#THIS DATASET IS ALREADY CLEANED,SO WE DON'T NEED REPROCESSING HERE."
   ]
  },
  {
   "cell_type": "code",
   "execution_count": 24,
   "id": "4b93d8b8",
   "metadata": {},
   "outputs": [],
   "source": [
    "#TO ACCESS A FEATURE VALUE"
   ]
  },
  {
   "cell_type": "code",
   "execution_count": 25,
   "id": "6a15fcee",
   "metadata": {},
   "outputs": [
    {
     "data": {
      "text/plain": [
       "'2015-02-15'"
      ]
     },
     "execution_count": 25,
     "metadata": {},
     "output_type": "execute_result"
    }
   ],
   "source": [
    "data['time'][0]"
   ]
  },
  {
   "cell_type": "code",
   "execution_count": 26,
   "id": "7b345054",
   "metadata": {},
   "outputs": [
    {
     "data": {
      "text/plain": [
       "0         2015-02-15\n",
       "1         2015-02-15\n",
       "2         2015-02-15\n",
       "3         2015-02-15\n",
       "4         2015-02-15\n",
       "             ...    \n",
       "207931    2015-02-15\n",
       "207932    2015-02-15\n",
       "207933    2015-02-15\n",
       "207934    2015-02-15\n",
       "207935    2015-02-15\n",
       "Name: time, Length: 207936, dtype: object"
      ]
     },
     "execution_count": 26,
     "metadata": {},
     "output_type": "execute_result"
    }
   ],
   "source": [
    "data['time']"
   ]
  },
  {
   "cell_type": "code",
   "execution_count": null,
   "id": "aa75a5c2",
   "metadata": {},
   "outputs": [],
   "source": []
  },
  {
   "cell_type": "markdown",
   "id": "09f65618",
   "metadata": {},
   "source": [
    "# FEATURE SCALING"
   ]
  },
  {
   "cell_type": "code",
   "execution_count": 27,
   "id": "0b189e59",
   "metadata": {},
   "outputs": [],
   "source": [
    "# It is a step of Data Pre Processing that is applied to independent variables or features of data.\n",
    "#It basically helps to normalize the data within a particular range"
   ]
  },
  {
   "cell_type": "markdown",
   "id": "e60425cd",
   "metadata": {},
   "source": [
    "# WHY WE DO FEATURE SCALING?"
   ]
  },
  {
   "cell_type": "code",
   "execution_count": 28,
   "id": "8dcf49ff",
   "metadata": {},
   "outputs": [],
   "source": [
    "#The real-world dataset contains features that highly vary in magnitudes, units, and range.\n",
    "#Normalization should be performed when the scale of a feature is irrelevant or misleading and \n",
    "#not should Normalise when the scale is meaningful.\n",
    "\n",
    "#The algorithms which use Euclidean Distance measures are sensitive to Magnitudes. \n",
    "#Here feature scaling helps to weigh all the features equally.\n",
    "\n",
    "#Formally, If a feature in the dataset is big in scale compared to others then in algorithms \n",
    "#where Euclidean distance is measured \n",
    "#this big scaled feature becomes dominating and needs to be normalized. \n",
    "\n"
   ]
  },
  {
   "cell_type": "code",
   "execution_count": null,
   "id": "8a864a4e",
   "metadata": {},
   "outputs": [],
   "source": []
  },
  {
   "cell_type": "code",
   "execution_count": null,
   "id": "d61efdbf",
   "metadata": {},
   "outputs": [],
   "source": []
  },
  {
   "cell_type": "code",
   "execution_count": null,
   "id": "3b8c0c03",
   "metadata": {},
   "outputs": [],
   "source": []
  },
  {
   "cell_type": "code",
   "execution_count": null,
   "id": "0893ba7c",
   "metadata": {},
   "outputs": [],
   "source": []
  },
  {
   "cell_type": "code",
   "execution_count": null,
   "id": "d0e210df",
   "metadata": {},
   "outputs": [],
   "source": []
  },
  {
   "cell_type": "code",
   "execution_count": null,
   "id": "b9978f6e",
   "metadata": {},
   "outputs": [],
   "source": []
  },
  {
   "cell_type": "code",
   "execution_count": null,
   "id": "ecd7c46f",
   "metadata": {},
   "outputs": [],
   "source": []
  },
  {
   "cell_type": "code",
   "execution_count": null,
   "id": "2980689e",
   "metadata": {},
   "outputs": [],
   "source": []
  },
  {
   "cell_type": "code",
   "execution_count": null,
   "id": "4eb2a675",
   "metadata": {},
   "outputs": [],
   "source": []
  },
  {
   "cell_type": "code",
   "execution_count": null,
   "id": "ebeacc81",
   "metadata": {},
   "outputs": [],
   "source": []
  },
  {
   "cell_type": "code",
   "execution_count": null,
   "id": "c27a5c95",
   "metadata": {},
   "outputs": [],
   "source": []
  },
  {
   "cell_type": "code",
   "execution_count": null,
   "id": "59b00df3",
   "metadata": {},
   "outputs": [],
   "source": []
  },
  {
   "cell_type": "code",
   "execution_count": null,
   "id": "2814419a",
   "metadata": {},
   "outputs": [],
   "source": []
  },
  {
   "cell_type": "code",
   "execution_count": null,
   "id": "8e106f54",
   "metadata": {},
   "outputs": [],
   "source": []
  },
  {
   "cell_type": "code",
   "execution_count": null,
   "id": "f88064ae",
   "metadata": {},
   "outputs": [],
   "source": []
  },
  {
   "cell_type": "code",
   "execution_count": null,
   "id": "e1832d8b",
   "metadata": {},
   "outputs": [],
   "source": []
  },
  {
   "cell_type": "code",
   "execution_count": null,
   "id": "8ca68193",
   "metadata": {},
   "outputs": [],
   "source": []
  },
  {
   "cell_type": "code",
   "execution_count": null,
   "id": "c659aa92",
   "metadata": {},
   "outputs": [],
   "source": []
  },
  {
   "cell_type": "code",
   "execution_count": null,
   "id": "331c17f3",
   "metadata": {},
   "outputs": [],
   "source": []
  },
  {
   "cell_type": "code",
   "execution_count": null,
   "id": "f7aa241e",
   "metadata": {},
   "outputs": [],
   "source": []
  },
  {
   "cell_type": "code",
   "execution_count": null,
   "id": "d2343e56",
   "metadata": {},
   "outputs": [],
   "source": []
  },
  {
   "cell_type": "code",
   "execution_count": null,
   "id": "5b35417c",
   "metadata": {},
   "outputs": [],
   "source": []
  },
  {
   "cell_type": "code",
   "execution_count": null,
   "id": "e1fc20d4",
   "metadata": {},
   "outputs": [],
   "source": []
  },
  {
   "cell_type": "code",
   "execution_count": null,
   "id": "573fc22b",
   "metadata": {},
   "outputs": [],
   "source": []
  },
  {
   "cell_type": "code",
   "execution_count": null,
   "id": "f75d50d8",
   "metadata": {},
   "outputs": [],
   "source": []
  },
  {
   "cell_type": "code",
   "execution_count": null,
   "id": "cba90ee9",
   "metadata": {},
   "outputs": [],
   "source": []
  },
  {
   "cell_type": "code",
   "execution_count": null,
   "id": "bc19d66c",
   "metadata": {},
   "outputs": [],
   "source": []
  },
  {
   "cell_type": "code",
   "execution_count": null,
   "id": "dd040c0b",
   "metadata": {},
   "outputs": [],
   "source": []
  },
  {
   "cell_type": "code",
   "execution_count": null,
   "id": "9c7fdaf7",
   "metadata": {},
   "outputs": [],
   "source": []
  },
  {
   "cell_type": "code",
   "execution_count": null,
   "id": "2e0a56f9",
   "metadata": {},
   "outputs": [],
   "source": []
  },
  {
   "cell_type": "code",
   "execution_count": null,
   "id": "964d9417",
   "metadata": {},
   "outputs": [],
   "source": []
  },
  {
   "cell_type": "code",
   "execution_count": null,
   "id": "fcffb58d",
   "metadata": {},
   "outputs": [],
   "source": []
  },
  {
   "cell_type": "code",
   "execution_count": null,
   "id": "65d5adec",
   "metadata": {},
   "outputs": [],
   "source": []
  },
  {
   "cell_type": "code",
   "execution_count": null,
   "id": "e0058d99",
   "metadata": {},
   "outputs": [],
   "source": []
  },
  {
   "cell_type": "code",
   "execution_count": null,
   "id": "f0f9e3e4",
   "metadata": {},
   "outputs": [],
   "source": []
  },
  {
   "cell_type": "code",
   "execution_count": null,
   "id": "6d019814",
   "metadata": {},
   "outputs": [],
   "source": []
  },
  {
   "cell_type": "code",
   "execution_count": null,
   "id": "43aaa173",
   "metadata": {},
   "outputs": [],
   "source": []
  },
  {
   "cell_type": "code",
   "execution_count": null,
   "id": "f5d38079",
   "metadata": {},
   "outputs": [],
   "source": []
  },
  {
   "cell_type": "code",
   "execution_count": null,
   "id": "c9ecc30e",
   "metadata": {},
   "outputs": [],
   "source": []
  },
  {
   "cell_type": "code",
   "execution_count": null,
   "id": "a94029db",
   "metadata": {},
   "outputs": [],
   "source": []
  },
  {
   "cell_type": "code",
   "execution_count": null,
   "id": "91411d0a",
   "metadata": {},
   "outputs": [],
   "source": []
  },
  {
   "cell_type": "code",
   "execution_count": null,
   "id": "c8436781",
   "metadata": {},
   "outputs": [],
   "source": []
  },
  {
   "cell_type": "code",
   "execution_count": null,
   "id": "a2ebd195",
   "metadata": {},
   "outputs": [],
   "source": []
  },
  {
   "cell_type": "code",
   "execution_count": null,
   "id": "9b661a27",
   "metadata": {},
   "outputs": [],
   "source": []
  },
  {
   "cell_type": "code",
   "execution_count": null,
   "id": "81d784f6",
   "metadata": {},
   "outputs": [],
   "source": []
  },
  {
   "cell_type": "code",
   "execution_count": null,
   "id": "f7b927fb",
   "metadata": {},
   "outputs": [],
   "source": []
  },
  {
   "cell_type": "code",
   "execution_count": null,
   "id": "cc3a9af9",
   "metadata": {},
   "outputs": [],
   "source": []
  },
  {
   "cell_type": "code",
   "execution_count": null,
   "id": "12ae2df9",
   "metadata": {},
   "outputs": [],
   "source": []
  },
  {
   "cell_type": "code",
   "execution_count": null,
   "id": "7920d914",
   "metadata": {},
   "outputs": [],
   "source": []
  },
  {
   "cell_type": "code",
   "execution_count": null,
   "id": "d3223257",
   "metadata": {},
   "outputs": [],
   "source": []
  },
  {
   "cell_type": "code",
   "execution_count": null,
   "id": "d19fac29",
   "metadata": {},
   "outputs": [],
   "source": []
  },
  {
   "cell_type": "code",
   "execution_count": null,
   "id": "b3710285",
   "metadata": {},
   "outputs": [],
   "source": []
  }
 ],
 "metadata": {
  "kernelspec": {
   "display_name": "Python 3",
   "language": "python",
   "name": "python3"
  },
  "language_info": {
   "codemirror_mode": {
    "name": "ipython",
    "version": 3
   },
   "file_extension": ".py",
   "mimetype": "text/x-python",
   "name": "python",
   "nbconvert_exporter": "python",
   "pygments_lexer": "ipython3",
   "version": "3.8.8"
  }
 },
 "nbformat": 4,
 "nbformat_minor": 5
}
